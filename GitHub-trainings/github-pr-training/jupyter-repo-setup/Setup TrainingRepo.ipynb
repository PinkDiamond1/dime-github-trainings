{
 "cells": [
  {
   "cell_type": "markdown",
   "metadata": {},
   "source": [
    "# Script that sets up training repository\n",
    "\n",
    "Change the settings in the first cell and run all to create the repository and send the invitations."
   ]
  },
  {
   "cell_type": "code",
   "execution_count": null,
   "metadata": {},
   "outputs": [],
   "source": [
    "import os, sys, json,importlib, base64,urllib, time\n",
    "\n",
    "#This notebook requires you to install https://github.com/PyGithub/PyGithub first\n",
    "from github import Github, InputGitAuthor\n",
    "\n",
    "#Add parent folder to library paths\n",
    "module_path = os.path.abspath(os.path.join('../../Common-Resources'))\n",
    "if module_path not in sys.path:\n",
    "    sys.path.append(module_path)\n",
    "import github_tools as ghTools"
   ]
  },
  {
   "cell_type": "code",
   "execution_count": null,
   "metadata": {
    "scrolled": true
   },
   "outputs": [],
   "source": [
    "accessToken = ghTools.getTokenAttribute(attribute=\"token\")\n",
    "ghSession = Github(accessToken)\n",
    "\n",
    "#get user\n",
    "user = ghSession.get_user()\n",
    "username = user.login"
   ]
  },
  {
   "cell_type": "markdown",
   "metadata": {
    "scrolled": true
   },
   "source": [
    "### Manually input name of repository"
   ]
  },
  {
   "cell_type": "code",
   "execution_count": null,
   "metadata": {},
   "outputs": [],
   "source": [
    "#The name of the repository to create, use random 4 letters to get unique url\n",
    "reponame = \"pr-training\"\n",
    "\n",
    "#Variables if repo should be created on org account\n",
    "dime_training_account = \"dime-wb-trainings\"\n",
    "use_org_account = True"
   ]
  },
  {
   "cell_type": "markdown",
   "metadata": {},
   "source": [
    "Switch host to org account"
   ]
  },
  {
   "cell_type": "code",
   "execution_count": null,
   "metadata": {},
   "outputs": [],
   "source": [
    "# Set the account where the training repo will be created\n",
    "if use_org_account:\n",
    "    account = ghSession.get_organization(dime_training_account)\n",
    "else:\n",
    "    account = user"
   ]
  },
  {
   "cell_type": "markdown",
   "metadata": {},
   "source": [
    "## Creating the repo"
   ]
  },
  {
   "cell_type": "code",
   "execution_count": null,
   "metadata": {},
   "outputs": [],
   "source": [
    "#making sure the repo is not already tere\n",
    "try:\n",
    "    del_repo = ghSession.get_repo(account.login+\"/\"+reponame)\n",
    "    print(\"Deleted: \" + del_repo.full_name)\n",
    "    del_repo.delete()\n",
    "except:\n",
    "    print(\"No repo with that name\")"
   ]
  },
  {
   "cell_type": "code",
   "execution_count": null,
   "metadata": {},
   "outputs": [],
   "source": [
    "#Create the repo\n",
    "training_repo = account.create_repo(reponame, auto_init=True)\n",
    "print(training_repo)\n",
    "print(training_repo.html_url)"
   ]
  },
  {
   "cell_type": "markdown",
   "metadata": {},
   "source": [
    "### Replace the auto initialized repo with the prepared README and add .gitignore"
   ]
  },
  {
   "cell_type": "markdown",
   "metadata": {},
   "source": [
    "#### update README"
   ]
  },
  {
   "cell_type": "code",
   "execution_count": null,
   "metadata": {
    "scrolled": true
   },
   "outputs": [],
   "source": [
    "#Get the commit sha from where the README was created in the auto_init\n",
    "contents = training_repo.get_contents(\"README.md\")\n",
    "\n",
    "#Read the README file in this repo to get the content for the commit\n",
    "file_content = open('repo-content-files/README.md', 'rb').read()\n",
    "#print(file_content)\n",
    "\n",
    "#Update the README file\n",
    "readme_update_result = training_repo.update_file(\"README.md\", \n",
    "                                                 \"Update README.md\", \n",
    "                                                 file_content,\n",
    "                                                 contents.sha,\n",
    "                                                 branch=\"main\")\n",
    "\n",
    "readme_update_sha = readme_update_result[\"commit\"].sha\n",
    "print(readme_update_result)"
   ]
  },
  {
   "cell_type": "markdown",
   "metadata": {},
   "source": [
    "#### add .gitignore"
   ]
  },
  {
   "cell_type": "code",
   "execution_count": null,
   "metadata": {},
   "outputs": [],
   "source": [
    "#Read the README file in this repo to get the content for the commit\n",
    "file_content = open(\"repo-content-files/no.gitignore\", 'rb').read()\n",
    "\n",
    "#Update the README file\n",
    "create_ignore_result = training_repo.create_file(\".gitignore\", \"add a ignore file\", file_content, branch=\"main\")"
   ]
  },
  {
   "cell_type": "markdown",
   "metadata": {},
   "source": [
    "### Start adding lyrics files"
   ]
  },
  {
   "cell_type": "code",
   "execution_count": null,
   "metadata": {},
   "outputs": [],
   "source": [
    "list_of_files = [\n",
    "    [\"lyrics/pop/backstreets-back.txt\",\"Adding Backstreet Back - Go BSB!\"],\n",
    "    [\"lyrics/rock/stairway-to-heaven.txt\",\"Stairway to Heaven! So GOOOD.\"],\n",
    "    [\"lyrics/rock/november-rain.txt\",\"November Rain - The solo is AMAZING!\"],\n",
    "    [\"lyrics/pop/mamma-mia.txt\",\"ABBA is the best! And this song is their best!\"]\n",
    "]\n",
    "\n",
    "for song_list in list_of_files:\n",
    "    #Read the README file in this repo to get the content for the commit\n",
    "    file_content = open(\"repo-content-files/\" + song_list[0], 'rb').read()\n",
    "    #print(file_content)\n",
    "\n",
    "    #Update the README file\n",
    "    create_result = training_repo.create_file(song_list[0], song_list[1], file_content, branch=\"main\")\n",
    "    \n",
    "last_main_commit = create_result[\"commit\"]\n",
    "print(last_main_commit)"
   ]
  },
  {
   "cell_type": "markdown",
   "metadata": {},
   "source": [
    "### Edit in other branch"
   ]
  },
  {
   "cell_type": "code",
   "execution_count": null,
   "metadata": {
    "scrolled": true
   },
   "outputs": [],
   "source": [
    "#Create the improve lyrics branch\n",
    "pr_branch = \"improve-lyrics\"\n",
    "training_repo.create_git_ref(\"refs/heads/\" + pr_branch, last_main_commit.sha)"
   ]
  },
  {
   "cell_type": "code",
   "execution_count": null,
   "metadata": {},
   "outputs": [],
   "source": [
    "list_of_files = [\n",
    "    [\"november-rain1.txt\",\"rock/november-rain.txt\",\"I like April rains better\"],\n",
    "    [\"november-rain2.txt\",\"rock/november-rain.txt\",\"One chorus in the end is enough\"],\n",
    "    [\"backstreets-back.txt\",\"pop/backstreets-back.txt\",\"I like April rains better\"],\n",
    "    [\"november-rain3.txt\",\"rock/november-rain.txt\",\"Axel Rose singing Eros Ramazzotti \"],\n",
    "]\n",
    "\n",
    "for song_list in list_of_files:\n",
    "    #Read the file in this repo to get the content for the commit\n",
    "    file_content = open(\"repo-content-files/edits/\" + song_list[0], 'rb').read()\n",
    "\n",
    "    #Update the file\n",
    "    content = training_repo.get_contents(\"lyrics/\"+song_list[1],ref=\"refs/heads/\"+pr_branch)\n",
    "    create_result = training_repo.update_file(\"lyrics/\"+song_list[1],song_list[2],file_content,content.sha,branch=pr_branch)\n",
    "    \n",
    "    last_improve_commit = create_result[\"commit\"]\n",
    "    \n"
   ]
  },
  {
   "cell_type": "markdown",
   "metadata": {},
   "source": [
    "### Create main PR"
   ]
  },
  {
   "cell_type": "code",
   "execution_count": null,
   "metadata": {},
   "outputs": [],
   "source": [
    "base = \"main\"\n",
    "head = pr_branch\n",
    "\n",
    "title = \"Making improvements to these lyrics\"\n",
    "body = \"\"\"In meeting on June 12th, 2021 the DIME Lyrics team decided that I will improve these lyrics.\n",
    "\n",
    "We decided to mostly focus on November Rain and Backstreet Back.\"\"\"\n",
    "\n",
    "\n",
    "pr = training_repo.create_pull(base=base,head=head,title=title,body=body)\n",
    "\n",
    "print(pr)"
   ]
  },
  {
   "cell_type": "code",
   "execution_count": null,
   "metadata": {},
   "outputs": [],
   "source": [
    "overall_comment = \"Thank you @kbjarkefur! I ran this code. I was able to reproduce your work. However, it would be good if you can improve the documentation, so it is easer to find the master file that runs all other files.\"\n",
    "pr.create_issue_comment(overall_comment)"
   ]
  },
  {
   "cell_type": "code",
   "execution_count": null,
   "metadata": {},
   "outputs": [],
   "source": [
    "line_comment = \"@kbjarkefur, are you sure you meant to write August here? In all other cases you changed to April\"\n",
    "pr.create_comment(line_comment, last_improve_commit, \"lyrics/rock/november-rain.txt\", 23)"
   ]
  },
  {
   "cell_type": "code",
   "execution_count": null,
   "metadata": {},
   "outputs": [],
   "source": [
    "line_comment = \"Are you sure @kbjarkefur that Gun's and Roses gets better by mixing in Eros Ramazzotti?\"\n",
    "pr.create_comment(line_comment, last_improve_commit, \"lyrics/rock/november-rain.txt\", 48)"
   ]
  },
  {
   "cell_type": "code",
   "execution_count": null,
   "metadata": {},
   "outputs": [],
   "source": [
    "line_suggestion = \"\"\"```suggestion\n",
    "In the cold April rain\n",
    "```\"\"\"\n",
    "pr.create_comment(line_suggestion, last_improve_commit, \"lyrics/rock/november-rain.txt\", 14)"
   ]
  },
  {
   "cell_type": "markdown",
   "metadata": {},
   "source": [
    "### Create conflict PR"
   ]
  },
  {
   "cell_type": "code",
   "execution_count": null,
   "metadata": {},
   "outputs": [],
   "source": [
    "#Create the improve lyrics branch\n",
    "cnflct_dev = \"shine\"\n",
    "\n"
   ]
  },
  {
   "cell_type": "code",
   "execution_count": null,
   "metadata": {},
   "outputs": [],
   "source": [
    "#create the shine branch and push first edit\n",
    "training_repo.create_git_ref(\"refs/heads/\" + cnflct_dev, last_main_commit.sha)\n",
    "\n",
    "edit_file = \"shines.txt\"\n",
    "repo_path = \"rock/stairway-to-heaven.txt\"\n",
    "message   = \"Isn't shine more poetic?\"\n",
    "\n",
    "\n",
    "#Read the file in this repo to get the content for the commit\n",
    "file_content = open(\"repo-content-files/edits/\" + edit_file, 'rb').read()\n",
    "\n",
    "#Update the file\n",
    "content = training_repo.get_contents(\"lyrics/\"+repo_path,ref=\"refs/heads/\"+cnflct_dev)\n",
    "create_result = training_repo.update_file(\"lyrics/\"+repo_path,message,file_content,content.sha,branch=cnflct_dev)\n",
    "\n",
    "last_shine_commit = create_result[\"commit\"]"
   ]
  },
  {
   "cell_type": "markdown",
   "metadata": {},
   "source": [
    "Create the feature branches and commit to them"
   ]
  },
  {
   "cell_type": "code",
   "execution_count": null,
   "metadata": {},
   "outputs": [],
   "source": [
    "#create the shine branch and push first edit\n",
    "\n",
    "repo_path = \"rock/stairway-to-heaven.txt\"\n",
    "shine_metals = [\"bronze\",\"silver\"]\n",
    "\n",
    "for metal in shine_metals :\n",
    "\n",
    "    branch_name = cnflct_dev+\"-\"+metal\n",
    "    edit_file = \"shines-\"+metal+\".txt\"\n",
    "    message   = metal+\" shines more than gold?\"\n",
    "    \n",
    "    \n",
    "    training_repo.create_git_ref(\"refs/heads/\"+branch_name , last_shine_commit.sha)\n",
    "\n",
    "\n",
    "    #Read the file in this repo to get the content for the commit\n",
    "    file_content = open(\"repo-content-files/edits/\" + edit_file, 'rb').read()\n",
    "\n",
    "    #Update the file\n",
    "    content = training_repo.get_contents(\"lyrics/\"+repo_path,ref=\"refs/heads/\"+branch_name)\n",
    "    create_result = training_repo.update_file(\"lyrics/\"+repo_path,message,file_content,content.sha,branch=branch_name)\n"
   ]
  },
  {
   "cell_type": "markdown",
   "metadata": {},
   "source": [
    "Create PR for silver branch and then merge."
   ]
  },
  {
   "cell_type": "code",
   "execution_count": null,
   "metadata": {},
   "outputs": [],
   "source": [
    "base = cnflct_dev\n",
    "head = cnflct_dev+\"-bronze\"\n",
    "\n",
    "title = \"Use better shining metal\"\n",
    "body = \"\"\"After deciding to update the mediocore line _There's a lady who's sure all that glitter is gold_ to the much better _There's a lady who's sure all that shines is gold_ I think it is even better if we replace _gold_ with _bronze_. \n",
    "\n",
    "I hope everyone preferes silver or we might have a conflict\"\"\"\n",
    "\n",
    "silver_pr = training_repo.create_pull(base=base,head=head,title=title,body=body)\n",
    "silver_pr.merge()\n",
    "print(silver_pr)"
   ]
  },
  {
   "cell_type": "code",
   "execution_count": null,
   "metadata": {},
   "outputs": [],
   "source": [
    "#Delete silver branch\n",
    "for ref in training_repo.get_git_refs() :\n",
    "    if ref.ref == \"refs/heads/\"+head :\n",
    "        ref.delete()"
   ]
  },
  {
   "cell_type": "markdown",
   "metadata": {},
   "source": [
    "Create PR for bronze branch to create conflict"
   ]
  },
  {
   "cell_type": "code",
   "execution_count": null,
   "metadata": {},
   "outputs": [],
   "source": [
    "base = cnflct_dev\n",
    "head = cnflct_dev+\"-silver\"\n",
    "\n",
    "title = \"The shiniest metal is silver\"\n",
    "body = \"If we are using _There's a lady who's sure all that shines is gold_ we really should use _silver_ instead of _gold_.\"\n",
    "\n",
    "bronze_pr = training_repo.create_pull(base=base,head=head,title=title,body=body)\n",
    "print(bronze_pr)"
   ]
  }
 ],
 "metadata": {
  "kernelspec": {
   "display_name": "Python 3",
   "language": "python",
   "name": "python3"
  },
  "language_info": {
   "codemirror_mode": {
    "name": "ipython",
    "version": 3
   },
   "file_extension": ".py",
   "mimetype": "text/x-python",
   "name": "python",
   "nbconvert_exporter": "python",
   "pygments_lexer": "ipython3",
   "version": "3.7.6"
  }
 },
 "nbformat": 4,
 "nbformat_minor": 2
}

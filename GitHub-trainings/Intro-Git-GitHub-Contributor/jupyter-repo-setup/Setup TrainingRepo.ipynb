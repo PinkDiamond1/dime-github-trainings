{
 "cells": [
  {
   "cell_type": "markdown",
   "metadata": {},
   "source": [
    "# Script that sets up training repository\n",
    "\n",
    "Change the settings in the first cell and run all to create the repository and send the invitations."
   ]
  },
  {
   "cell_type": "code",
   "execution_count": null,
   "metadata": {},
   "outputs": [],
   "source": [
    "import os, sys, json,importlib, base64,urllib, time\n",
    "\n",
    "#This notebook requires you to install https://github.com/PyGithub/PyGithub first\n",
    "from github import Github, InputGitAuthor\n",
    "\n",
    "#Add parent folder to library paths\n",
    "module_path = os.path.abspath(os.path.join('../../Common-Resources'))\n",
    "if module_path not in sys.path:\n",
    "    sys.path.append(module_path)\n",
    "import github_tools as ghTools"
   ]
  },
  {
   "cell_type": "code",
   "execution_count": null,
   "metadata": {
    "scrolled": true
   },
   "outputs": [],
   "source": [
    "accessToken = ghTools.getTokenAttribute(attribute=\"token\")\n",
    "ghSession = Github(accessToken)\n",
    "\n",
    "#get user\n",
    "user = ghSession.get_user()\n",
    "username = user.login"
   ]
  },
  {
   "cell_type": "markdown",
   "metadata": {
    "scrolled": true
   },
   "source": [
    "### Manually input name of repository"
   ]
  },
  {
   "cell_type": "code",
   "execution_count": null,
   "metadata": {},
   "outputs": [],
   "source": [
    "#The name of the repository to create, use random 4 letters to get unique url\n",
    "reponame = \"lyrics\"\n",
    "\n",
    "#Variables if repo should be created on org account\n",
    "dime_training_account = \"dime-wb-trainings\"\n",
    "use_org_account = True"
   ]
  },
  {
   "cell_type": "markdown",
   "metadata": {},
   "source": [
    "Switch host to org account"
   ]
  },
  {
   "cell_type": "code",
   "execution_count": null,
   "metadata": {},
   "outputs": [],
   "source": [
    "# Set the account where the training repo will be created\n",
    "if use_org_account:\n",
    "    account = ghSession.get_organization(dime_training_account)\n",
    "else:\n",
    "    account = user"
   ]
  },
  {
   "cell_type": "markdown",
   "metadata": {},
   "source": [
    "## Creating the repo"
   ]
  },
  {
   "cell_type": "code",
   "execution_count": null,
   "metadata": {},
   "outputs": [],
   "source": [
    "#making sure the repo is not already tere\n",
    "try:\n",
    "    del_repo = ghSession.get_repo(account.login+\"/\"+reponame)\n",
    "    print(\"Deleted: \" + del_repo.full_name)\n",
    "    del_repo.delete()\n",
    "except:\n",
    "    print(\"No repo with that name\")"
   ]
  },
  {
   "cell_type": "code",
   "execution_count": null,
   "metadata": {},
   "outputs": [],
   "source": [
    "#Create the repo\n",
    "training_repo = account.create_repo(reponame, auto_init=True)\n",
    "print(training_repo)\n",
    "print(training_repo.html_url)\n",
    "\n",
    "time.sleep(2)"
   ]
  },
  {
   "cell_type": "markdown",
   "metadata": {},
   "source": [
    "### Replace the auto initialized repo with the prepared README and add .gitignore"
   ]
  },
  {
   "cell_type": "markdown",
   "metadata": {},
   "source": [
    "#### update README"
   ]
  },
  {
   "cell_type": "code",
   "execution_count": null,
   "metadata": {
    "scrolled": true
   },
   "outputs": [],
   "source": [
    "#Get the commit sha from where the README was created in the auto_init\n",
    "contents = training_repo.get_contents(\"README.md\")\n",
    "\n",
    "#Read the README file in this repo to get the content for the commit\n",
    "file_content = open('repo-content-files/README.md', 'rb').read()\n",
    "#print(file_content)\n",
    "\n",
    "#Update the README file\n",
    "readme_update_result = training_repo.update_file(\"README.md\", \n",
    "                                                 \"Update README.md\", \n",
    "                                                 file_content,\n",
    "                                                 contents.sha,\n",
    "                                                 branch=\"main\")\n",
    "\n",
    "readme_update_sha = readme_update_result[\"commit\"].sha\n",
    "print(readme_update_result)"
   ]
  },
  {
   "cell_type": "markdown",
   "metadata": {},
   "source": [
    "#### Create the initial-branch"
   ]
  },
  {
   "cell_type": "code",
   "execution_count": null,
   "metadata": {},
   "outputs": [],
   "source": [
    "training_repo.create_git_ref(\"refs/heads/initial-branch\", readme_update_sha)"
   ]
  },
  {
   "cell_type": "markdown",
   "metadata": {},
   "source": [
    "#### add .gitignore"
   ]
  },
  {
   "cell_type": "code",
   "execution_count": null,
   "metadata": {},
   "outputs": [],
   "source": [
    "#Read the README file in this repo to get the content for the commit\n",
    "file_content = open(\"repo-content-files/no.gitignore\", 'rb').read()\n",
    "\n",
    "#Update the README file\n",
    "create_ignore_result = training_repo.create_file(\".gitignore\", \"add a ignore file\", file_content, branch=\"main\")"
   ]
  },
  {
   "cell_type": "markdown",
   "metadata": {},
   "source": [
    "### Start adding lyrics files"
   ]
  },
  {
   "cell_type": "code",
   "execution_count": null,
   "metadata": {},
   "outputs": [],
   "source": [
    "list_of_files = [\n",
    "    [\"lyrics/pop/backstreets-back.txt\",\"Adding Backstreet Back - Go BSB!\"],\n",
    "    [\"lyrics/rock/stairway-to-heaven.txt\",\"Stairway to Heaven! So GOOOD.\"],\n",
    "    [\"lyrics/rock/november-rain.txt\",\"November Rain - The solo is AMAZING!\"],\n",
    "    [\"lyrics/pop/mamma-mia.txt\",\"ABBA is the best! And this song is their best!\"]\n",
    "]\n",
    "\n",
    "for song_list in list_of_files:\n",
    "    #Read the README file in this repo to get the content for the commit\n",
    "    file_content = open(\"repo-content-files/\" + song_list[0], 'rb').read()\n",
    "    #print(file_content)\n",
    "\n",
    "    #Update the README file\n",
    "    create_result = training_repo.create_file(song_list[0], song_list[1], file_content, branch=\"main\")\n",
    "    \n",
    "last_sha = create_result[\"commit\"].sha\n",
    "print(last_sha)"
   ]
  },
  {
   "cell_type": "code",
   "execution_count": null,
   "metadata": {},
   "outputs": [],
   "source": [
    "#Create the queen branch\n",
    "training_repo.create_git_ref(\"refs/heads/queen-branch\", last_sha)"
   ]
  },
  {
   "cell_type": "code",
   "execution_count": null,
   "metadata": {},
   "outputs": [],
   "source": [
    "#Remove Abba from the queen branch\n",
    "contents = training_repo.get_contents(\"lyrics/pop/mamma-mia.txt\", ref=\"refs/heads/queen-branch\")\n",
    "training_repo.delete_file(contents.path, \"ABBA is not that great\", contents.sha, branch=\"queen-branch\")"
   ]
  },
  {
   "cell_type": "code",
   "execution_count": null,
   "metadata": {},
   "outputs": [],
   "source": [
    "list_of_files = [\n",
    "    [\"lyrics/pop/dont-stop-me-now.txt\",\"Dont try to stop me!, Yass Queen\",\"queen-branch\"]\n",
    "]\n",
    "\n",
    "for song_list in list_of_files:\n",
    "    #Read the README file in this repo to get the content for the commit\n",
    "    file_content = open(\"repo-content-files/\" + song_list[0], 'rb').read()\n",
    "    #print(file_content)\n",
    "\n",
    "    #Update the README file\n",
    "    create_result = training_repo.create_file(song_list[0], song_list[1], file_content, branch=song_list[2])\n",
    "    \n",
    "    last_sha = create_result[\"commit\"].sha\n",
    "    print(create_result)"
   ]
  }
 ],
 "metadata": {
  "kernelspec": {
   "display_name": "Python 3",
   "language": "python",
   "name": "python3"
  },
  "language_info": {
   "codemirror_mode": {
    "name": "ipython",
    "version": 3
   },
   "file_extension": ".py",
   "mimetype": "text/x-python",
   "name": "python",
   "nbconvert_exporter": "python",
   "pygments_lexer": "ipython3",
   "version": "3.7.6"
  }
 },
 "nbformat": 4,
 "nbformat_minor": 2
}
